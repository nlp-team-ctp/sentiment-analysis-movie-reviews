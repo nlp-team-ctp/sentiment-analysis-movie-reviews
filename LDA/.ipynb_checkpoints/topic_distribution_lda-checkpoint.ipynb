{
 "cells": [
  {
   "cell_type": "code",
   "execution_count": 1,
   "metadata": {},
   "outputs": [],
   "source": [
    "import os\n",
    "import logging\n",
    "import pandas as pd\n",
    "import gensim\n",
    "import numpy as np\n",
    "import matplotlib.pyplot as plt\n",
    "from collections import defaultdict\n",
    "from smart_open import open\n",
    "from gensim import corpora, utils\n",
    "from gensim.models import LdaMulticore\n",
    "from gensim.test.utils import datapath\n",
    "from gensim.corpora import Dictionary\n",
    "from gensim.test.utils import common_corpus, common_dictionary\n",
    "from nltk.stem import PorterStemmer\n",
    "from nltk.corpus import PlaintextCorpusReader, stopwords\n",
    "from nltk.tokenize import RegexpTokenizer\n",
    "from nltk.stem.wordnet import WordNetLemmatizer\n",
    "\n",
    "# logging.basicConfig(format='%(asctime)s : %(levelname)s : %(message)s', level=logging.INFO)\n",
    "# logging.root.setLevel(level=logging.DEBUG)"
   ]
  },
  {
   "cell_type": "code",
   "execution_count": 2,
   "metadata": {},
   "outputs": [],
   "source": [
    "# load dictionary\n",
    "dct = corpora.Dictionary.load('dictionary.dict')\n",
    "\n",
    "# load model\n",
    "lda = LdaMulticore.load(datapath('lda_model'))"
   ]
  },
  {
   "cell_type": "code",
   "execution_count": 3,
   "metadata": {},
   "outputs": [],
   "source": [
    "def preprocess(document):\n",
    "    # convert to lower case\n",
    "    document = document.lower()\n",
    "\n",
    "    # tokenize document\n",
    "    tk = RegexpTokenizer(r'[a-zA-Z\\'\\-\\_]+')\n",
    "    tokens = [token for token in tk.tokenize(document)]\n",
    "    tokens = [token for token in tokens if token != 'br']\n",
    "\n",
    "    # determine stop words\n",
    "    stoplist = set(stopwords.words('english'))\n",
    "\n",
    "    # remove stop words\n",
    "    tokens = [token for token in tokens if token not in stoplist]\n",
    "\n",
    "    # stemmer\n",
    "    porter = PorterStemmer()\n",
    "    tokens = [porter.stem(token) for token in tokens]\n",
    "\n",
    "    # remove words with length 1\n",
    "    tokens = [token for token in tokens if len(token) > 1]\n",
    "\n",
    "    return tokens"
   ]
  },
  {
   "cell_type": "code",
   "execution_count": 4,
   "metadata": {},
   "outputs": [],
   "source": [
    "df = pd.read_csv('..\\data\\IMDB Dataset.csv')\n",
    "df = df.drop_duplicates()\n",
    "df['clean_review'] = df['review'].apply(preprocess)"
   ]
  },
  {
   "cell_type": "code",
   "execution_count": 5,
   "metadata": {},
   "outputs": [],
   "source": [
    "reviews = df['review'].tolist()\n",
    "\n",
    "X = df['clean_review'].tolist()\n",
    "y = df['sentiment'].tolist()"
   ]
  },
  {
   "cell_type": "code",
   "execution_count": 6,
   "metadata": {},
   "outputs": [
    {
     "name": "stdout",
     "output_type": "stream",
     "text": [
      "Dictionary(28564 unique tokens: ['accustom', 'agenda', 'agreement', 'appeal', 'around']...)\n"
     ]
    },
    {
     "data": {
      "text/plain": [
       "49582"
      ]
     },
     "execution_count": 6,
     "metadata": {},
     "output_type": "execute_result"
    }
   ],
   "source": [
    "print(dct)\n",
    "len(X)"
   ]
  },
  {
   "cell_type": "code",
   "execution_count": 7,
   "metadata": {},
   "outputs": [],
   "source": [
    "doc_number = 3"
   ]
  },
  {
   "cell_type": "code",
   "execution_count": 8,
   "metadata": {},
   "outputs": [
    {
     "name": "stdout",
     "output_type": "stream",
     "text": [
      "Basically there's a family where a little boy (Jake) thinks there's a zombie in his closet & his parents are fighting all the time.<br /><br />This movie is slower than a soap opera... and suddenly, Jake decides to become Rambo and kill the zombie.<br /><br />OK, first of all when you're going to make a film you must Decide if its a thriller or a drama! As a drama the movie is watchable. Parents are divorcing & arguing like in real life. And then we have Jake with his closet which totally ruins all the film! I expected to see a BOOGEYMAN similar movie, and instead i watched a drama with some meaningless thriller spots.<br /><br />3 out of 10 just for the well playing parents & descent dialogs. As for the shots with Jake: just ignore them.\n",
      "\n",
      "negative\n"
     ]
    }
   ],
   "source": [
    "X_test_corpus = dct.doc2bow(X[doc_number])\n",
    "print(reviews[doc_number])\n",
    "print()\n",
    "print(y[doc_number])"
   ]
  },
  {
   "cell_type": "code",
   "execution_count": 9,
   "metadata": {},
   "outputs": [
    {
     "name": "stdout",
     "output_type": "stream",
     "text": [
      "[(290, 0.23004244), (110, 0.1850052), (53, 0.13856857), (64, 0.11945973)]\n"
     ]
    }
   ],
   "source": [
    "# topic probability distribution of unseen document\n",
    "vector = lda.get_document_topics(X_test_corpus, minimum_probability=0.1)\n",
    "vector.sort(key = lambda tup: tup[1], reverse=True)\n",
    "print(vector)"
   ]
  },
  {
   "cell_type": "code",
   "execution_count": 11,
   "metadata": {},
   "outputs": [
    {
     "name": "stdout",
     "output_type": "stream",
     "text": [
      "    WORD  PROBABILITY\n",
      "0  zombi     0.062570\n",
      "1   dead     0.017973\n",
      "2   film     0.017109\n",
      "3    one     0.013389\n",
      "4  spoof     0.013118\n",
      "5   like     0.011950\n",
      "6   make     0.009026\n",
      "7   even     0.008601\n",
      "8   gore     0.008356\n",
      "9    bad     0.008310\n",
      "\n",
      "       WORD  PROBABILITY\n",
      "0       mom     0.049819\n",
      "1    mother     0.036669\n",
      "2       son     0.013870\n",
      "3       cri     0.012544\n",
      "4      like     0.011545\n",
      "5    parent     0.011190\n",
      "6     adopt     0.010693\n",
      "7      time     0.010354\n",
      "8  children     0.008849\n",
      "9       see     0.008806\n",
      "\n",
      "      WORD  PROBABILITY\n",
      "0    opera     0.059522\n",
      "1     soap     0.043055\n",
      "2     film     0.019657\n",
      "3    actor     0.012600\n",
      "4     love     0.011325\n",
      "5    watch     0.010059\n",
      "6      one     0.009476\n",
      "7  charact     0.007805\n",
      "8    salli     0.007007\n",
      "9     role     0.006722\n",
      "\n",
      "       WORD  PROBABILITY\n",
      "0    murder     0.035963\n",
      "1      rape     0.031389\n",
      "2       sex     0.022480\n",
      "3     scene     0.021242\n",
      "4        de     0.020979\n",
      "5      kill     0.020349\n",
      "6  thriller     0.020042\n",
      "7    victim     0.019776\n",
      "8    sexual     0.014306\n",
      "9    killer     0.011174\n",
      "\n"
     ]
    }
   ],
   "source": [
    "for topic in vector:\n",
    "    top_terms_id = lda.get_topic_terms(topic[0])\n",
    "    top_terms_word = [(lda.id2word[id], prob) for id, prob in top_terms_id]\n",
    "\n",
    "    df2 = pd.DataFrame(top_terms_word, columns =['WORD', 'PROBABILITY'])\n",
    "    print(df2)\n",
    "    print()"
   ]
  },
  {
   "cell_type": "code",
   "execution_count": 12,
   "metadata": {
    "scrolled": true
   },
   "outputs": [
    {
     "data": {
      "text/plain": [
       "(500, 28564)"
      ]
     },
     "execution_count": 12,
     "metadata": {},
     "output_type": "execute_result"
    }
   ],
   "source": [
    "matrix = lda.get_topics()\n",
    "matrix.shape"
   ]
  },
  {
   "cell_type": "code",
   "execution_count": null,
   "metadata": {},
   "outputs": [],
   "source": [
    "'''\n",
    "# getting topic id with highest probability\n",
    "top_topic = max(vector, key=lambda x:x[1])\n",
    "print(top_topic)\n",
    "\n",
    "# getting word representation of topic\n",
    "top_terms_id = lda.get_topic_terms(top_topic[0])\n",
    "print(top_terms_id)\n",
    "\n",
    "# converting ids to words\n",
    "top_terms_word = [(lda.id2word[id], prob) for id, prob in top_terms_id]\n",
    "\n",
    "df2 = pd.DataFrame(top_terms_word, columns =['word', 'probability'])\n",
    "df2\n",
    "'''"
   ]
  }
 ],
 "metadata": {
  "kernelspec": {
   "display_name": "Python 3",
   "language": "python",
   "name": "python3"
  },
  "language_info": {
   "codemirror_mode": {
    "name": "ipython",
    "version": 3
   },
   "file_extension": ".py",
   "mimetype": "text/x-python",
   "name": "python",
   "nbconvert_exporter": "python",
   "pygments_lexer": "ipython3",
   "version": "3.8.3"
  }
 },
 "nbformat": 4,
 "nbformat_minor": 4
}
