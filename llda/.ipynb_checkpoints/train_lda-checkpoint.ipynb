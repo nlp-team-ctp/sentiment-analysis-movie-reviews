{
 "cells": [
  {
   "cell_type": "code",
   "execution_count": 1,
   "metadata": {},
   "outputs": [],
   "source": [
    "import os\n",
    "import logging\n",
    "import gensim\n",
    "from gensim.models import LdaMulticore\n",
    "from gensim import corpora, utils\n",
    "from gensim.corpora import Dictionary\n",
    "from gensim.test.utils import datapath\n",
    "from multiprocessing import Process, freeze_support"
   ]
  },
  {
   "cell_type": "code",
   "execution_count": 2,
   "metadata": {},
   "outputs": [],
   "source": [
    "logging.basicConfig(format='%(asctime)s : %(levelname)s : %(message)s', level=logging.INFO)\n",
    "logging.root.setLevel(level=logging.DEBUG)"
   ]
  },
  {
   "cell_type": "code",
   "execution_count": 3,
   "metadata": {},
   "outputs": [
    {
     "name": "stderr",
     "output_type": "stream",
     "text": [
      "2020-11-18 14:10:19,284 : INFO : loading Dictionary object from dictionary.dict\n",
      "2020-11-18 14:10:19,286 : DEBUG : {'uri': 'dictionary.dict', 'mode': 'rb', 'buffering': -1, 'encoding': None, 'errors': None, 'newline': None, 'closefd': True, 'opener': None, 'ignore_ext': False, 'transport_params': None}\n",
      "2020-11-18 14:10:19,325 : INFO : loaded dictionary.dict\n",
      "2020-11-18 14:10:19,326 : DEBUG : {'uri': 'mycorpus.mm.index', 'mode': 'rb', 'buffering': -1, 'encoding': None, 'errors': None, 'newline': None, 'closefd': True, 'opener': None, 'ignore_ext': False, 'transport_params': None}\n",
      "2020-11-18 14:10:19,332 : INFO : loaded corpus index from mycorpus.mm.index\n",
      "2020-11-18 14:10:19,333 : INFO : initializing cython corpus reader from mycorpus.mm\n",
      "2020-11-18 14:10:19,333 : DEBUG : {'uri': 'mycorpus.mm', 'mode': 'rb', 'buffering': -1, 'encoding': None, 'errors': None, 'newline': None, 'closefd': True, 'opener': None, 'ignore_ext': False, 'transport_params': None}\n",
      "2020-11-18 14:10:19,334 : INFO : accepted corpus with 49582 documents, 99425 features, 6884360 non-zero entries\n"
     ]
    }
   ],
   "source": [
    "# loading dictionary\n",
    "dct = corpora.Dictionary.load('dictionary.dict')\n",
    "\n",
    "# loading corpus\n",
    "corpus = corpora.MmCorpus('mycorpus.mm')"
   ]
  },
  {
   "cell_type": "code",
   "execution_count": null,
   "metadata": {},
   "outputs": [
    {
     "name": "stderr",
     "output_type": "stream",
     "text": [
      "2020-11-18 14:10:19,351 : INFO : using symmetric alpha at 0.01\n",
      "2020-11-18 14:10:19,352 : INFO : using symmetric eta at 0.01\n",
      "2020-11-18 14:10:19,365 : INFO : using serial LDA version on this node\n",
      "2020-11-18 14:10:20,186 : INFO : running online LDA training, 100 topics, 10 passes over the supplied corpus of 49582 documents, updating every 250000 documents, evaluating every ~0 documents, iterating 200x with a convergence threshold of 0.001000\n",
      "2020-11-18 14:10:20,188 : INFO : training LDA model using 5 processes\n",
      "2020-11-18 14:10:20,202 : DEBUG : {'uri': 'mycorpus.mm', 'mode': 'rb', 'buffering': -1, 'encoding': None, 'errors': None, 'newline': None, 'closefd': True, 'opener': None, 'ignore_ext': False, 'transport_params': None}\n",
      "2020-11-18 14:10:26,265 : INFO : PROGRESS: pass 0, dispatched chunk #0 = documents up to #49582/49582, outstanding queue size 1\n",
      "2020-11-18 14:14:05,334 : DEBUG : updating topics\n",
      "2020-11-18 14:14:06,555 : INFO : topic #67 (0.010): 0.027*\"the\" + 0.025*\"of\" + 0.017*\"a\" + 0.015*\"to\" + 0.014*\"and\" + 0.013*\"he\" + 0.010*\"in\" + 0.009*\"s\" + 0.009*\"is\" + 0.008*\"that\"\n",
      "2020-11-18 14:14:06,557 : INFO : topic #8 (0.010): 0.067*\"the\" + 0.032*\"a\" + 0.029*\"of\" + 0.027*\"and\" + 0.026*\"to\" + 0.017*\"in\" + 0.015*\"it\" + 0.013*\"that\" + 0.012*\"is\" + 0.012*\"s\"\n",
      "2020-11-18 14:14:06,558 : INFO : topic #87 (0.010): 0.039*\"a\" + 0.025*\"the\" + 0.024*\"it\" + 0.022*\"to\" + 0.016*\"and\" + 0.016*\"of\" + 0.015*\"that\" + 0.015*\"s\" + 0.014*\"this\" + 0.014*\"is\"\n",
      "2020-11-18 14:14:06,559 : INFO : topic #22 (0.010): 0.033*\"a\" + 0.027*\"the\" + 0.021*\"to\" + 0.018*\"and\" + 0.015*\"in\" + 0.014*\"of\" + 0.013*\"i\" + 0.012*\"is\" + 0.011*\"for\" + 0.011*\"it\"\n",
      "2020-11-18 14:14:06,560 : INFO : topic #44 (0.010): 0.031*\"the\" + 0.027*\"a\" + 0.025*\"to\" + 0.019*\"and\" + 0.016*\"of\" + 0.016*\"is\" + 0.015*\"it\" + 0.013*\"i\" + 0.012*\"as\" + 0.011*\"this\"\n",
      "2020-11-18 14:14:06,586 : INFO : topic diff=89.286423, rho=1.000000\n",
      "2020-11-18 14:14:06,594 : DEBUG : {'uri': 'mycorpus.mm', 'mode': 'rb', 'buffering': -1, 'encoding': None, 'errors': None, 'newline': None, 'closefd': True, 'opener': None, 'ignore_ext': False, 'transport_params': None}\n",
      "2020-11-18 14:14:12,607 : INFO : PROGRESS: pass 1, dispatched chunk #0 = documents up to #49582/49582, outstanding queue size 1\n"
     ]
    }
   ],
   "source": [
    "workers = 5\n",
    "passes = 10\n",
    "chunksize = 50000\n",
    "num_topics = 100\n",
    "iterations = 200\n",
    "eval_every = None\n",
    "\n",
    "# train and save model\n",
    "if __name__ == '__main__':\n",
    "    freeze_support()\n",
    "    lda_model = LdaMulticore(corpus=corpus, \n",
    "                             id2word=dct, \n",
    "                             num_topics=num_topics, \n",
    "                             workers=workers,\n",
    "                             chunksize=chunksize, \n",
    "                             passes=passes, \n",
    "                             iterations=iterations, \n",
    "                             eval_every=eval_every)\n",
    "    \n",
    "    temp_file = datapath('lda_model')\n",
    "    lda_model.save(temp_file)"
   ]
  }
 ],
 "metadata": {
  "kernelspec": {
   "display_name": "Python 3",
   "language": "python",
   "name": "python3"
  },
  "language_info": {
   "codemirror_mode": {
    "name": "ipython",
    "version": 3
   },
   "file_extension": ".py",
   "mimetype": "text/x-python",
   "name": "python",
   "nbconvert_exporter": "python",
   "pygments_lexer": "ipython3",
   "version": "3.8.3"
  }
 },
 "nbformat": 4,
 "nbformat_minor": 4
}
