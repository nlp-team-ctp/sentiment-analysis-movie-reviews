{
 "cells": [
  {
   "cell_type": "code",
   "execution_count": 1,
   "metadata": {},
   "outputs": [],
   "source": [
    "import os\n",
    "import logging\n",
    "import gensim\n",
    "from gensim.models import LdaMulticore\n",
    "from gensim import corpora, utils\n",
    "from gensim.corpora import Dictionary\n",
    "from gensim.test.utils import datapath\n",
    "from multiprocessing import Process, freeze_support"
   ]
  },
  {
   "cell_type": "code",
   "execution_count": 2,
   "metadata": {},
   "outputs": [],
   "source": [
    "logging.basicConfig(format='%(asctime)s : %(levelname)s : %(message)s', level=logging.INFO)\n",
    "logging.root.setLevel(level=logging.DEBUG)"
   ]
  },
  {
   "cell_type": "code",
   "execution_count": 3,
   "metadata": {},
   "outputs": [
    {
     "name": "stderr",
     "output_type": "stream",
     "text": [
      "2020-11-18 14:49:39,150 : INFO : loading Dictionary object from dictionary.dict\n",
      "2020-11-18 14:49:39,151 : DEBUG : {'uri': 'dictionary.dict', 'mode': 'rb', 'buffering': -1, 'encoding': None, 'errors': None, 'newline': None, 'closefd': True, 'opener': None, 'ignore_ext': False, 'transport_params': None}\n",
      "2020-11-18 14:49:39,172 : INFO : loaded dictionary.dict\n",
      "2020-11-18 14:49:39,173 : DEBUG : {'uri': 'mycorpus.mm.index', 'mode': 'rb', 'buffering': -1, 'encoding': None, 'errors': None, 'newline': None, 'closefd': True, 'opener': None, 'ignore_ext': False, 'transport_params': None}\n",
      "2020-11-18 14:49:39,178 : INFO : loaded corpus index from mycorpus.mm.index\n",
      "2020-11-18 14:49:39,179 : INFO : initializing cython corpus reader from mycorpus.mm\n",
      "2020-11-18 14:49:39,179 : DEBUG : {'uri': 'mycorpus.mm', 'mode': 'rb', 'buffering': -1, 'encoding': None, 'errors': None, 'newline': None, 'closefd': True, 'opener': None, 'ignore_ext': False, 'transport_params': None}\n",
      "2020-11-18 14:49:39,180 : INFO : accepted corpus with 49582 documents, 68996 features, 4609154 non-zero entries\n"
     ]
    }
   ],
   "source": [
    "# loading dictionary\n",
    "dct = corpora.Dictionary.load('dictionary.dict')\n",
    "\n",
    "# loading corpus\n",
    "corpus = corpora.MmCorpus('mycorpus.mm')"
   ]
  },
  {
   "cell_type": "code",
   "execution_count": 4,
   "metadata": {},
   "outputs": [
    {
     "name": "stderr",
     "output_type": "stream",
     "text": [
      "2020-11-18 14:49:39,200 : INFO : using symmetric alpha at 0.01\n",
      "2020-11-18 14:49:39,200 : INFO : using symmetric eta at 0.01\n",
      "2020-11-18 14:49:39,209 : INFO : using serial LDA version on this node\n",
      "2020-11-18 14:49:39,693 : INFO : running online LDA training, 100 topics, 10 passes over the supplied corpus of 49582 documents, updating every 250000 documents, evaluating every ~0 documents, iterating 200x with a convergence threshold of 0.001000\n",
      "2020-11-18 14:49:39,695 : INFO : training LDA model using 5 processes\n",
      "2020-11-18 14:49:39,706 : DEBUG : {'uri': 'mycorpus.mm', 'mode': 'rb', 'buffering': -1, 'encoding': None, 'errors': None, 'newline': None, 'closefd': True, 'opener': None, 'ignore_ext': False, 'transport_params': None}\n",
      "2020-11-18 14:49:43,300 : INFO : PROGRESS: pass 0, dispatched chunk #0 = documents up to #49582/49582, outstanding queue size 1\n",
      "2020-11-18 14:52:06,550 : DEBUG : updating topics\n",
      "2020-11-18 14:52:07,313 : INFO : topic #87 (0.010): 0.020*\"film\" + 0.010*\"movi\" + 0.009*\"like\" + 0.006*\"one\" + 0.005*\"would\" + 0.005*\"time\" + 0.005*\"see\" + 0.005*\"watch\" + 0.004*\"say\" + 0.004*\"good\"\n",
      "2020-11-18 14:52:07,314 : INFO : topic #75 (0.010): 0.016*\"movi\" + 0.008*\"one\" + 0.008*\"show\" + 0.007*\"even\" + 0.007*\"like\" + 0.007*\"time\" + 0.007*\"make\" + 0.006*\"would\" + 0.006*\"film\" + 0.005*\"charact\"\n",
      "2020-11-18 14:52:07,315 : INFO : topic #37 (0.010): 0.022*\"movi\" + 0.010*\"one\" + 0.010*\"film\" + 0.007*\"time\" + 0.007*\"get\" + 0.006*\"watch\" + 0.006*\"would\" + 0.005*\"like\" + 0.005*\"see\" + 0.004*\"even\"\n",
      "2020-11-18 14:52:07,316 : INFO : topic #60 (0.010): 0.019*\"film\" + 0.014*\"movi\" + 0.013*\"one\" + 0.007*\"stori\" + 0.006*\"like\" + 0.005*\"get\" + 0.004*\"make\" + 0.004*\"also\" + 0.004*\"love\" + 0.004*\"would\"\n",
      "2020-11-18 14:52:07,317 : INFO : topic #81 (0.010): 0.014*\"movi\" + 0.009*\"film\" + 0.006*\"one\" + 0.006*\"like\" + 0.006*\"charact\" + 0.005*\"good\" + 0.005*\"watch\" + 0.005*\"time\" + 0.005*\"see\" + 0.005*\"also\"\n",
      "2020-11-18 14:52:07,333 : INFO : topic diff=81.452385, rho=1.000000\n",
      "2020-11-18 14:52:07,341 : DEBUG : {'uri': 'mycorpus.mm', 'mode': 'rb', 'buffering': -1, 'encoding': None, 'errors': None, 'newline': None, 'closefd': True, 'opener': None, 'ignore_ext': False, 'transport_params': None}\n",
      "2020-11-18 14:52:11,038 : INFO : PROGRESS: pass 1, dispatched chunk #0 = documents up to #49582/49582, outstanding queue size 1\n",
      "2020-11-18 14:53:26,076 : DEBUG : updating topics\n",
      "2020-11-18 14:53:26,828 : INFO : topic #3 (0.010): 0.017*\"film\" + 0.012*\"like\" + 0.008*\"movi\" + 0.008*\"one\" + 0.006*\"good\" + 0.005*\"make\" + 0.005*\"see\" + 0.005*\"go\" + 0.004*\"even\" + 0.004*\"time\"\n",
      "2020-11-18 14:53:26,830 : INFO : topic #36 (0.010): 0.014*\"film\" + 0.010*\"one\" + 0.007*\"like\" + 0.007*\"movi\" + 0.007*\"good\" + 0.007*\"show\" + 0.004*\"charact\" + 0.004*\"would\" + 0.004*\"well\" + 0.004*\"even\"\n",
      "2020-11-18 14:53:26,831 : INFO : topic #21 (0.010): 0.017*\"movi\" + 0.012*\"film\" + 0.009*\"one\" + 0.007*\"love\" + 0.006*\"would\" + 0.006*\"like\" + 0.005*\"make\" + 0.005*\"see\" + 0.005*\"stori\" + 0.004*\"scene\"\n",
      "2020-11-18 14:53:26,832 : INFO : topic #98 (0.010): 0.019*\"film\" + 0.007*\"movi\" + 0.007*\"one\" + 0.005*\"would\" + 0.005*\"get\" + 0.005*\"stori\" + 0.005*\"scene\" + 0.004*\"like\" + 0.004*\"love\" + 0.004*\"time\"\n",
      "2020-11-18 14:53:26,833 : INFO : topic #9 (0.010): 0.017*\"film\" + 0.008*\"one\" + 0.007*\"time\" + 0.007*\"stori\" + 0.006*\"movi\" + 0.006*\"like\" + 0.006*\"charact\" + 0.005*\"scene\" + 0.004*\"play\" + 0.004*\"watch\"\n",
      "2020-11-18 14:53:26,849 : INFO : topic diff=0.463196, rho=0.578156\n",
      "2020-11-18 14:53:26,854 : DEBUG : {'uri': 'mycorpus.mm', 'mode': 'rb', 'buffering': -1, 'encoding': None, 'errors': None, 'newline': None, 'closefd': True, 'opener': None, 'ignore_ext': False, 'transport_params': None}\n",
      "2020-11-18 14:53:30,513 : INFO : PROGRESS: pass 2, dispatched chunk #0 = documents up to #49582/49582, outstanding queue size 1\n",
      "2020-11-18 14:54:38,183 : DEBUG : updating topics\n",
      "2020-11-18 14:54:38,935 : INFO : topic #1 (0.010): 0.011*\"movi\" + 0.009*\"get\" + 0.008*\"film\" + 0.008*\"like\" + 0.006*\"make\" + 0.006*\"one\" + 0.005*\"much\" + 0.005*\"good\" + 0.005*\"would\" + 0.005*\"time\"\n",
      "2020-11-18 14:54:38,937 : INFO : topic #73 (0.010): 0.012*\"show\" + 0.010*\"seri\" + 0.008*\"season\" + 0.007*\"like\" + 0.006*\"columbo\" + 0.006*\"episod\" + 0.006*\"film\" + 0.005*\"one\" + 0.005*\"good\" + 0.005*\"well\"\n",
      "2020-11-18 14:54:38,938 : INFO : topic #55 (0.010): 0.020*\"movi\" + 0.011*\"film\" + 0.010*\"one\" + 0.006*\"like\" + 0.006*\"man\" + 0.005*\"play\" + 0.005*\"well\" + 0.005*\"charact\" + 0.005*\"time\" + 0.004*\"see\"\n",
      "2020-11-18 14:54:38,939 : INFO : topic #33 (0.010): 0.016*\"film\" + 0.014*\"one\" + 0.010*\"movi\" + 0.007*\"like\" + 0.007*\"time\" + 0.005*\"scene\" + 0.005*\"make\" + 0.004*\"get\" + 0.004*\"even\" + 0.003*\"much\"\n",
      "2020-11-18 14:54:38,940 : INFO : topic #66 (0.010): 0.034*\"movi\" + 0.012*\"film\" + 0.008*\"one\" + 0.007*\"like\" + 0.007*\"get\" + 0.007*\"even\" + 0.006*\"time\" + 0.006*\"good\" + 0.006*\"charact\" + 0.005*\"see\"\n",
      "2020-11-18 14:54:38,956 : INFO : topic diff=0.548316, rho=0.500523\n",
      "2020-11-18 14:54:38,964 : DEBUG : {'uri': 'mycorpus.mm', 'mode': 'rb', 'buffering': -1, 'encoding': None, 'errors': None, 'newline': None, 'closefd': True, 'opener': None, 'ignore_ext': False, 'transport_params': None}\n",
      "2020-11-18 14:54:42,773 : INFO : PROGRESS: pass 3, dispatched chunk #0 = documents up to #49582/49582, outstanding queue size 1\n",
      "2020-11-18 14:55:46,730 : DEBUG : updating topics\n",
      "2020-11-18 14:55:47,476 : INFO : topic #40 (0.010): 0.045*\"film\" + 0.009*\"good\" + 0.009*\"movi\" + 0.008*\"one\" + 0.007*\"watch\" + 0.007*\"stori\" + 0.007*\"like\" + 0.007*\"time\" + 0.006*\"act\" + 0.006*\"would\"\n",
      "2020-11-18 14:55:47,477 : INFO : topic #76 (0.010): 0.007*\"holm\" + 0.007*\"film\" + 0.006*\"play\" + 0.006*\"get\" + 0.006*\"movi\" + 0.005*\"time\" + 0.005*\"bogart\" + 0.005*\"like\" + 0.005*\"serial\" + 0.005*\"man\"\n",
      "2020-11-18 14:55:47,478 : INFO : topic #56 (0.010): 0.038*\"movi\" + 0.015*\"film\" + 0.013*\"one\" + 0.011*\"like\" + 0.008*\"would\" + 0.008*\"make\" + 0.008*\"watch\" + 0.007*\"see\" + 0.007*\"realli\" + 0.006*\"act\"\n",
      "2020-11-18 14:55:47,479 : INFO : topic #59 (0.010): 0.017*\"movi\" + 0.011*\"film\" + 0.010*\"one\" + 0.006*\"get\" + 0.005*\"bruce\" + 0.004*\"like\" + 0.004*\"stori\" + 0.004*\"make\" + 0.004*\"come\" + 0.004*\"work\"\n",
      "2020-11-18 14:55:47,480 : INFO : topic #99 (0.010): 0.025*\"movi\" + 0.014*\"film\" + 0.009*\"one\" + 0.007*\"famili\" + 0.006*\"war\" + 0.006*\"see\" + 0.006*\"love\" + 0.006*\"great\" + 0.005*\"time\" + 0.005*\"best\"\n",
      "2020-11-18 14:55:47,497 : INFO : topic diff=0.608139, rho=0.447588\n",
      "2020-11-18 14:55:47,503 : DEBUG : {'uri': 'mycorpus.mm', 'mode': 'rb', 'buffering': -1, 'encoding': None, 'errors': None, 'newline': None, 'closefd': True, 'opener': None, 'ignore_ext': False, 'transport_params': None}\n",
      "2020-11-18 14:55:51,156 : INFO : PROGRESS: pass 4, dispatched chunk #0 = documents up to #49582/49582, outstanding queue size 1\n",
      "2020-11-18 14:56:53,687 : DEBUG : updating topics\n",
      "2020-11-18 14:56:54,431 : INFO : topic #38 (0.010): 0.030*\"film\" + 0.010*\"movi\" + 0.007*\"one\" + 0.006*\"time\" + 0.006*\"good\" + 0.006*\"stori\" + 0.006*\"well\" + 0.005*\"see\" + 0.005*\"charact\" + 0.005*\"play\"\n",
      "2020-11-18 14:56:54,433 : INFO : topic #83 (0.010): 0.017*\"documentari\" + 0.015*\"film\" + 0.010*\"peopl\" + 0.007*\"mani\" + 0.005*\"one\" + 0.005*\"like\" + 0.005*\"live\" + 0.004*\"stori\" + 0.004*\"famili\" + 0.004*\"movi\"\n",
      "2020-11-18 14:56:54,433 : INFO : topic #85 (0.010): 0.025*\"batman\" + 0.008*\"film\" + 0.008*\"like\" + 0.008*\"look\" + 0.008*\"movi\" + 0.007*\"one\" + 0.007*\"scene\" + 0.007*\"superman\" + 0.006*\"make\" + 0.006*\"burton\"\n",
      "2020-11-18 14:56:54,435 : INFO : topic #5 (0.010): 0.018*\"movi\" + 0.011*\"film\" + 0.008*\"one\" + 0.007*\"make\" + 0.007*\"get\" + 0.005*\"well\" + 0.005*\"stori\" + 0.005*\"see\" + 0.005*\"like\" + 0.005*\"good\"\n",
      "2020-11-18 14:56:54,436 : INFO : topic #99 (0.010): 0.025*\"movi\" + 0.014*\"film\" + 0.009*\"one\" + 0.008*\"famili\" + 0.008*\"war\" + 0.007*\"love\" + 0.006*\"see\" + 0.006*\"great\" + 0.006*\"stori\" + 0.006*\"life\"\n",
      "2020-11-18 14:56:54,452 : INFO : topic diff=0.633898, rho=0.408533\n",
      "2020-11-18 14:56:54,458 : DEBUG : {'uri': 'mycorpus.mm', 'mode': 'rb', 'buffering': -1, 'encoding': None, 'errors': None, 'newline': None, 'closefd': True, 'opener': None, 'ignore_ext': False, 'transport_params': None}\n",
      "2020-11-18 14:56:58,119 : INFO : PROGRESS: pass 5, dispatched chunk #0 = documents up to #49582/49582, outstanding queue size 1\n"
     ]
    },
    {
     "name": "stderr",
     "output_type": "stream",
     "text": [
      "2020-11-18 14:57:58,793 : DEBUG : updating topics\n",
      "2020-11-18 14:57:59,543 : INFO : topic #30 (0.010): 0.030*\"zombi\" + 0.013*\"one\" + 0.012*\"film\" + 0.007*\"dead\" + 0.005*\"like\" + 0.005*\"good\" + 0.005*\"movi\" + 0.005*\"even\" + 0.004*\"time\" + 0.004*\"make\"\n",
      "2020-11-18 14:57:59,544 : INFO : topic #41 (0.010): 0.013*\"film\" + 0.012*\"movi\" + 0.007*\"one\" + 0.006*\"charact\" + 0.006*\"stori\" + 0.005*\"see\" + 0.005*\"like\" + 0.004*\"great\" + 0.004*\"time\" + 0.004*\"good\"\n",
      "2020-11-18 14:57:59,545 : INFO : topic #14 (0.010): 0.026*\"film\" + 0.014*\"one\" + 0.006*\"movi\" + 0.006*\"charact\" + 0.006*\"time\" + 0.005*\"stori\" + 0.004*\"make\" + 0.004*\"like\" + 0.004*\"well\" + 0.004*\"perform\"\n",
      "2020-11-18 14:57:59,546 : INFO : topic #6 (0.010): 0.013*\"film\" + 0.010*\"one\" + 0.008*\"time\" + 0.007*\"movi\" + 0.006*\"would\" + 0.005*\"well\" + 0.005*\"music\" + 0.005*\"charact\" + 0.005*\"perform\" + 0.004*\"great\"\n",
      "2020-11-18 14:57:59,547 : INFO : topic #78 (0.010): 0.019*\"taylor\" + 0.019*\"hors\" + 0.015*\"dracula\" + 0.011*\"frankenstein\" + 0.010*\"film\" + 0.009*\"movi\" + 0.008*\"velvet\" + 0.008*\"wolf\" + 0.008*\"turkish\" + 0.007*\"good\"\n",
      "2020-11-18 14:57:59,563 : INFO : topic diff=0.629070, rho=0.378190\n",
      "2020-11-18 14:57:59,569 : DEBUG : {'uri': 'mycorpus.mm', 'mode': 'rb', 'buffering': -1, 'encoding': None, 'errors': None, 'newline': None, 'closefd': True, 'opener': None, 'ignore_ext': False, 'transport_params': None}\n",
      "2020-11-18 14:58:03,257 : INFO : PROGRESS: pass 6, dispatched chunk #0 = documents up to #49582/49582, outstanding queue size 1\n",
      "2020-11-18 14:59:02,548 : DEBUG : updating topics\n",
      "2020-11-18 14:59:03,305 : INFO : topic #36 (0.010): 0.012*\"film\" + 0.009*\"one\" + 0.006*\"like\" + 0.006*\"good\" + 0.005*\"wallac\" + 0.004*\"well\" + 0.004*\"charact\" + 0.004*\"get\" + 0.004*\"also\" + 0.004*\"rabbit\"\n",
      "2020-11-18 14:59:03,307 : INFO : topic #96 (0.010): 0.013*\"movi\" + 0.010*\"one\" + 0.007*\"play\" + 0.006*\"charact\" + 0.005*\"film\" + 0.005*\"time\" + 0.005*\"role\" + 0.004*\"get\" + 0.004*\"good\" + 0.004*\"elvira\"\n",
      "2020-11-18 14:59:03,308 : INFO : topic #7 (0.010): 0.046*\"film\" + 0.009*\"one\" + 0.008*\"movi\" + 0.008*\"good\" + 0.008*\"bad\" + 0.007*\"stori\" + 0.007*\"charact\" + 0.007*\"even\" + 0.006*\"make\" + 0.006*\"like\"\n",
      "2020-11-18 14:59:03,309 : INFO : topic #58 (0.010): 0.014*\"film\" + 0.009*\"one\" + 0.006*\"movi\" + 0.005*\"get\" + 0.005*\"make\" + 0.005*\"see\" + 0.004*\"like\" + 0.004*\"show\" + 0.004*\"time\" + 0.004*\"end\"\n",
      "2020-11-18 14:59:03,310 : INFO : topic #99 (0.010): 0.026*\"movi\" + 0.014*\"film\" + 0.011*\"famili\" + 0.009*\"one\" + 0.009*\"war\" + 0.008*\"love\" + 0.007*\"stori\" + 0.007*\"life\" + 0.007*\"see\" + 0.007*\"great\"\n",
      "2020-11-18 14:59:03,326 : INFO : topic diff=0.605893, rho=0.353738\n",
      "2020-11-18 14:59:03,333 : DEBUG : {'uri': 'mycorpus.mm', 'mode': 'rb', 'buffering': -1, 'encoding': None, 'errors': None, 'newline': None, 'closefd': True, 'opener': None, 'ignore_ext': False, 'transport_params': None}\n",
      "2020-11-18 14:59:07,046 : INFO : PROGRESS: pass 7, dispatched chunk #0 = documents up to #49582/49582, outstanding queue size 1\n",
      "2020-11-18 15:00:06,266 : DEBUG : updating topics\n",
      "2020-11-18 15:00:07,020 : INFO : topic #27 (0.010): 0.072*\"show\" + 0.018*\"like\" + 0.014*\"watch\" + 0.009*\"funni\" + 0.009*\"episod\" + 0.009*\"one\" + 0.009*\"time\" + 0.009*\"tv\" + 0.008*\"great\" + 0.007*\"think\"\n",
      "2020-11-18 15:00:07,021 : INFO : topic #87 (0.010): 0.019*\"film\" + 0.009*\"ray\" + 0.007*\"one\" + 0.006*\"like\" + 0.006*\"life\" + 0.006*\"world\" + 0.005*\"movi\" + 0.005*\"jack\" + 0.004*\"time\" + 0.004*\"charl\"\n",
      "2020-11-18 15:00:07,022 : INFO : topic #89 (0.010): 0.016*\"episod\" + 0.012*\"season\" + 0.009*\"doctor\" + 0.008*\"film\" + 0.007*\"first\" + 0.006*\"dr\" + 0.006*\"one\" + 0.005*\"like\" + 0.005*\"din\" + 0.005*\"even\"\n",
      "2020-11-18 15:00:07,023 : INFO : topic #29 (0.010): 0.013*\"movi\" + 0.010*\"like\" + 0.009*\"scarecrow\" + 0.008*\"good\" + 0.007*\"see\" + 0.007*\"one\" + 0.006*\"get\" + 0.006*\"film\" + 0.005*\"well\" + 0.005*\"make\"\n",
      "2020-11-18 15:00:07,024 : INFO : topic #64 (0.010): 0.045*\"film\" + 0.010*\"one\" + 0.009*\"like\" + 0.006*\"good\" + 0.006*\"realli\" + 0.006*\"get\" + 0.005*\"look\" + 0.005*\"see\" + 0.005*\"well\" + 0.004*\"make\"\n",
      "2020-11-18 15:00:07,040 : INFO : topic diff=0.570549, rho=0.333488\n",
      "2020-11-18 15:00:07,045 : DEBUG : {'uri': 'mycorpus.mm', 'mode': 'rb', 'buffering': -1, 'encoding': None, 'errors': None, 'newline': None, 'closefd': True, 'opener': None, 'ignore_ext': False, 'transport_params': None}\n",
      "2020-11-18 15:00:10,805 : INFO : PROGRESS: pass 8, dispatched chunk #0 = documents up to #49582/49582, outstanding queue size 1\n",
      "2020-11-18 15:01:08,307 : DEBUG : updating topics\n",
      "2020-11-18 15:01:09,060 : INFO : topic #25 (0.010): 0.032*\"love\" + 0.018*\"film\" + 0.009*\"one\" + 0.008*\"stori\" + 0.007*\"like\" + 0.007*\"movi\" + 0.005*\"life\" + 0.005*\"make\" + 0.005*\"woman\" + 0.005*\"beauti\"\n",
      "2020-11-18 15:01:09,062 : INFO : topic #96 (0.010): 0.012*\"movi\" + 0.010*\"one\" + 0.007*\"play\" + 0.006*\"charact\" + 0.005*\"role\" + 0.005*\"film\" + 0.005*\"time\" + 0.004*\"elvira\" + 0.004*\"get\" + 0.004*\"vega\"\n",
      "2020-11-18 15:01:09,063 : INFO : topic #6 (0.010): 0.012*\"film\" + 0.010*\"one\" + 0.008*\"time\" + 0.006*\"music\" + 0.006*\"movi\" + 0.006*\"perform\" + 0.005*\"would\" + 0.005*\"well\" + 0.005*\"streisand\" + 0.004*\"charact\"\n",
      "2020-11-18 15:01:09,064 : INFO : topic #69 (0.010): 0.044*\"movi\" + 0.039*\"book\" + 0.016*\"read\" + 0.016*\"version\" + 0.011*\"like\" + 0.009*\"good\" + 0.009*\"one\" + 0.009*\"stori\" + 0.008*\"would\" + 0.008*\"novel\"\n",
      "2020-11-18 15:01:09,064 : INFO : topic #99 (0.010): 0.027*\"movi\" + 0.014*\"film\" + 0.013*\"famili\" + 0.009*\"one\" + 0.008*\"love\" + 0.008*\"stori\" + 0.008*\"war\" + 0.008*\"life\" + 0.007*\"see\" + 0.007*\"great\"\n",
      "2020-11-18 15:01:09,080 : INFO : topic diff=0.526309, rho=0.316360\n",
      "2020-11-18 15:01:09,087 : DEBUG : {'uri': 'mycorpus.mm', 'mode': 'rb', 'buffering': -1, 'encoding': None, 'errors': None, 'newline': None, 'closefd': True, 'opener': None, 'ignore_ext': False, 'transport_params': None}\n",
      "2020-11-18 15:01:12,725 : INFO : PROGRESS: pass 9, dispatched chunk #0 = documents up to #49582/49582, outstanding queue size 1\n",
      "2020-11-18 15:02:09,647 : DEBUG : updating topics\n",
      "2020-11-18 15:02:10,392 : INFO : topic #92 (0.010): 0.017*\"movi\" + 0.009*\"like\" + 0.008*\"one\" + 0.008*\"charact\" + 0.008*\"film\" + 0.007*\"time\" + 0.007*\"bad\" + 0.006*\"actor\" + 0.006*\"would\" + 0.005*\"even\"\n",
      "2020-11-18 15:02:10,394 : INFO : topic #52 (0.010): 0.029*\"film\" + 0.010*\"kong\" + 0.009*\"fight\" + 0.009*\"one\" + 0.009*\"like\" + 0.008*\"hong\" + 0.008*\"time\" + 0.008*\"movi\" + 0.008*\"martial\" + 0.007*\"art\"\n",
      "2020-11-18 15:02:10,395 : INFO : topic #5 (0.010): 0.015*\"movi\" + 0.009*\"film\" + 0.008*\"seagal\" + 0.007*\"one\" + 0.007*\"make\" + 0.007*\"get\" + 0.006*\"action\" + 0.005*\"well\" + 0.005*\"stori\" + 0.005*\"see\"\n",
      "2020-11-18 15:02:10,396 : INFO : topic #39 (0.010): 0.010*\"film\" + 0.009*\"one\" + 0.008*\"like\" + 0.006*\"movi\" + 0.006*\"time\" + 0.006*\"get\" + 0.005*\"play\" + 0.005*\"bo\" + 0.005*\"see\" + 0.005*\"make\"\n",
      "2020-11-18 15:02:10,397 : INFO : topic #42 (0.010): 0.020*\"film\" + 0.014*\"stoog\" + 0.013*\"footbal\" + 0.008*\"one\" + 0.008*\"play\" + 0.006*\"short\" + 0.006*\"curli\" + 0.006*\"morgan\" + 0.005*\"perform\" + 0.005*\"role\"\n",
      "2020-11-18 15:02:10,413 : INFO : topic diff=0.478075, rho=0.301626\n",
      "2020-11-18 15:02:10,612 : INFO : saving LdaState object under C:\\Users\\Terolli\\anaconda3\\lib\\site-packages\\gensim\\test\\test_data\\lda_model.state, separately None\n",
      "2020-11-18 15:02:10,613 : DEBUG : {'uri': 'C:\\\\Users\\\\Terolli\\\\anaconda3\\\\lib\\\\site-packages\\\\gensim\\\\test\\\\test_data\\\\lda_model.state', 'mode': 'wb', 'buffering': -1, 'encoding': None, 'errors': None, 'newline': None, 'closefd': True, 'opener': None, 'ignore_ext': False, 'transport_params': None}\n",
      "2020-11-18 15:02:10,684 : INFO : saved C:\\Users\\Terolli\\anaconda3\\lib\\site-packages\\gensim\\test\\test_data\\lda_model.state\n",
      "2020-11-18 15:02:10,685 : DEBUG : {'uri': 'C:\\\\Users\\\\Terolli\\\\anaconda3\\\\lib\\\\site-packages\\\\gensim\\\\test\\\\test_data\\\\lda_model.id2word', 'mode': 'wb', 'buffering': -1, 'encoding': None, 'errors': None, 'newline': None, 'closefd': True, 'opener': None, 'ignore_ext': False, 'transport_params': None}\n",
      "2020-11-18 15:02:10,705 : INFO : saving LdaMulticore object under C:\\Users\\Terolli\\anaconda3\\lib\\site-packages\\gensim\\test\\test_data\\lda_model, separately ['expElogbeta', 'sstats']\n",
      "2020-11-18 15:02:10,705 : INFO : storing np array 'expElogbeta' to C:\\Users\\Terolli\\anaconda3\\lib\\site-packages\\gensim\\test\\test_data\\lda_model.expElogbeta.npy\n"
     ]
    },
    {
     "name": "stderr",
     "output_type": "stream",
     "text": [
      "2020-11-18 15:02:10,722 : INFO : not storing attribute state\n",
      "2020-11-18 15:02:10,722 : INFO : not storing attribute dispatcher\n",
      "2020-11-18 15:02:10,723 : INFO : not storing attribute id2word\n",
      "2020-11-18 15:02:10,723 : DEBUG : {'uri': 'C:\\\\Users\\\\Terolli\\\\anaconda3\\\\lib\\\\site-packages\\\\gensim\\\\test\\\\test_data\\\\lda_model', 'mode': 'wb', 'buffering': -1, 'encoding': None, 'errors': None, 'newline': None, 'closefd': True, 'opener': None, 'ignore_ext': False, 'transport_params': None}\n",
      "2020-11-18 15:02:10,725 : INFO : saved C:\\Users\\Terolli\\anaconda3\\lib\\site-packages\\gensim\\test\\test_data\\lda_model\n"
     ]
    }
   ],
   "source": [
    "workers = 5\n",
    "passes = 10\n",
    "chunksize = 50000\n",
    "num_topics = 100\n",
    "iterations = 200\n",
    "eval_every = None\n",
    "\n",
    "# train and save model\n",
    "if __name__ == '__main__':\n",
    "    freeze_support()\n",
    "    lda_model = LdaMulticore(corpus=corpus, \n",
    "                             id2word=dct, \n",
    "                             num_topics=num_topics, \n",
    "                             workers=workers,\n",
    "                             chunksize=chunksize, \n",
    "                             passes=passes, \n",
    "                             iterations=iterations, \n",
    "                             eval_every=eval_every)\n",
    "    \n",
    "    temp_file = datapath('lda_model')\n",
    "    lda_model.save(temp_file)"
   ]
  }
 ],
 "metadata": {
  "kernelspec": {
   "display_name": "Python 3",
   "language": "python",
   "name": "python3"
  },
  "language_info": {
   "codemirror_mode": {
    "name": "ipython",
    "version": 3
   },
   "file_extension": ".py",
   "mimetype": "text/x-python",
   "name": "python",
   "nbconvert_exporter": "python",
   "pygments_lexer": "ipython3",
   "version": "3.8.3"
  }
 },
 "nbformat": 4,
 "nbformat_minor": 4
}
